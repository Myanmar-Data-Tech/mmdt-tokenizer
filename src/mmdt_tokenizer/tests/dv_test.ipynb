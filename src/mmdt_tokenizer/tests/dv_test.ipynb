{
 "cells": [
  {
   "cell_type": "code",
   "execution_count": 7,
   "id": "cf66ec55",
   "metadata": {},
   "outputs": [],
   "source": [
    "from mmdt_tokenizer.core import MyanmarTokenizer\n",
    "import pandas as pd\n",
    "from pathlib import Path\n",
    "\n",
    "tokenizer = MyanmarTokenizer()\n",
    "\n",
    "def test_syllable_tokenize_basic(tokenizer):\n",
    "    text = \"မင်္ဂလာပါ\"\n",
    "    tokens = tokenizer.syllable_tokenize(text)\n",
    "    assert isinstance(tokens, list)\n",
    "    assert any(\"မင်္\" in tok or \"ဂ\" in tok for tok in tokens[0])\n",
    "\n",
    "def test_syllable_tokenize_save_csv(tokenizer: MyanmarTokenizer, tmp_path):\n",
    "    \"\"\"Tests the CSV saving feature exposed by the main tokenizer.\"\"\"\n",
    "    SAMPLE_TEXT = [\"မင်္ဂလာပါ မြန်မာစာ\", \"တနေ့တော့\"]\n",
    "    EXPECTED_SYLLABLES = [\"မင်္ဂ\", \"လာ\", \"ပါ\", \"မြန်\", \"မာ\", \"စာ\", \"တ\", \"နေ့\", \"တော့\"]\n",
    "    csv_path = tmp_path + \"/syllable_core_test.csv\"\n",
    "    \n",
    "    # Call the main tokenizer method with the save_csv argument\n",
    "    tokenizer.syllable_tokenize(SAMPLE_TEXT, save_csv=str(csv_path), conll_style=True)\n",
    "    df = pd.read_csv(csv_path)\n",
    "    expected_rows = EXPECTED_SYLLABLES \n",
    "    assert df.shape[0] == len(expected_rows)+1\n",
    "    \n",
    "def test_syllable_tokenize_csv_input(tokenizer: MyanmarTokenizer, tmp_path):\n",
    "    \"\"\"Tests the CSV loading/saving feature exposed by the main tokenizer.\"\"\"\n",
    "    csv_input_path = tmp_path + \"/test_data.csv\"\n",
    "    csv_output_path = tmp_path + \"/result_syllable_bd.csv\"\n",
    "    \n",
    "    # Call the main tokenizer method with the save_csv argument\n",
    "    \n",
    "    df = pd.read_csv(csv_input_path)\n",
    "    tokenizer.syllable_tokenize(df, column = 'original_sentence', save_csv=str(csv_output_path), conll_style=False)\n",
    "    assert Path(csv_output_path).exists()\n",
    "    \n",
    "\n",
    "test_syllable_tokenize_basic(tokenizer)\n",
    "test_syllable_tokenize_save_csv(tokenizer, '../data')\n",
    "test_syllable_tokenize_csv_input(tokenizer, '../data')\n",
    "\n"
   ]
  }
 ],
 "metadata": {
  "kernelspec": {
   "display_name": "venv",
   "language": "python",
   "name": "python3"
  },
  "language_info": {
   "codemirror_mode": {
    "name": "ipython",
    "version": 3
   },
   "file_extension": ".py",
   "mimetype": "text/x-python",
   "name": "python",
   "nbconvert_exporter": "python",
   "pygments_lexer": "ipython3",
   "version": "3.9.6"
  }
 },
 "nbformat": 4,
 "nbformat_minor": 5
}
