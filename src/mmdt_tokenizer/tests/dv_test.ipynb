{
 "cells": [
  {
   "cell_type": "code",
   "execution_count": 1,
   "id": "cf66ec55",
   "metadata": {},
   "outputs": [],
   "source": [
    "from mmdt_tokenizer.tokenzier.core import MyanmarTokenizer\n",
    "from mmdt_tokenizer.utils.constants import DATA_DIR, OUTPUT_DIR\n",
    "\n",
    "import pandas as pd\n",
    "from pathlib import Path\n",
    "\n",
    "tokenizer = MyanmarTokenizer()\n",
    "\n",
    "def test_syllable_tokenize_basic(tokenizer):\n",
    "    text = \"မင်္ဂလာပါ\"\n",
    "    tokens = tokenizer.syllable_tokenize(text)\n",
    "    assert isinstance(tokens, list)\n",
    "    assert any(\"မင်္\" in tok or \"ဂ\" in tok for tok in tokens[0])\n",
    "\n",
    "def test_syllable_tokenize_multiple_text(tokenizer: MyanmarTokenizer):\n",
    "    \"\"\"Tests the CSV saving feature exposed by the main tokenizer.\"\"\"\n",
    "    text = [\"မင်္ဂလာပါ မြန်မာစာ\", \"တနေ့တော့\"]\n",
    "    tokens = tokenizer.syllable_tokenize(text)\n",
    "    assert(len(tokens)==2)\n",
    "    \n",
    "    \n",
    "def test_syllable_tokenize_csv(tokenizer: MyanmarTokenizer):\n",
    "    \"\"\"Tests the CSV loading/saving feature exposed by the main tokenizer.\"\"\"\n",
    "    csv_input_path = DATA_DIR / \"test_data.csv\"\n",
    "    csv_output_path = OUTPUT_DIR / \"result_syllable_bd.csv\"\n",
    "\n",
    "    df = pd.read_csv(csv_input_path)\n",
    "    \n",
    "    # Call the main tokenizer method with the save_csv argument and input is dataframe\n",
    "    \n",
    "    tokenizer.syllable_tokenize(df, column = 'original_sentence', save_csv=str(csv_output_path), conll_style=False)\n",
    "    assert Path(csv_output_path).exists()\n",
    "    \n",
    "\n",
    "test_syllable_tokenize_basic(tokenizer)\n",
    "test_syllable_tokenize_multiple_text(tokenizer)\n",
    "test_syllable_tokenize_csv(tokenizer)\n"
   ]
  },
  {
   "cell_type": "code",
   "execution_count": 5,
   "id": "a21ca817",
   "metadata": {},
   "outputs": [
    {
     "data": {
      "text/plain": [
       "[['ဒီဆိပ်ကမ်းကို',\n",
       "  'ဇူလိုင်',\n",
       "  '၁၁',\n",
       "  'ရက်က',\n",
       "  'တည်းက',\n",
       "  'ပိတ်ထားတာဖြစ်ပြီး',\n",
       "  '၊',\n",
       "  'ဒီနေ့မှာ',\n",
       "  'ရွှေဘိုခရိုင်တပ်ရင်း',\n",
       "  '၂',\n",
       "  'နဲ့',\n",
       "  'ရေလည်မော်',\n",
       "  'ရပ်ကျေး',\n",
       "  'ပ.က.ဖ',\n",
       "  'တို့က',\n",
       "  'ပြန်ဖွင့်ဖို့',\n",
       "  'စီစဉ်တာကြောင့်',\n",
       "  'ဆန္ဒပြကြ',\n",
       "  'တာလို့',\n",
       "  'ပြောပါ',\n",
       "  'တယ်',\n",
       "  '။']]"
      ]
     },
     "execution_count": 5,
     "metadata": {},
     "output_type": "execute_result"
    }
   ],
   "source": [
    "tokenizer = MyanmarTokenizer()\n",
    "text = \"၂၉-၉-၂၀၂၅  တကက-၁၃ အမှတ်(၁၅)\"\n",
    "text = \"ဒီဆိပ်ကမ်းကို ဇူလိုင် ၁၁ ရက်ကတည်းက ပိတ်ထားတာဖြစ်ပြီး၊ ဒီနေ့မှာ ရွှေဘိုခရိုင်တပ်ရင်း ၂ နဲ့ ရေလည်မော် ရပ်ကျေး ပ.က.ဖ တို့က ပြန်ဖွင့်ဖို့ စီစဉ်တာကြောင့် ဆန္ဒပြကြတာလို့ ပြောပါတယ်။\"\n",
    "#text= \"ရန်ကုန်တိုင်းရွှေလုပ်ငန်းရှင်များအသင်းရဲ့ အောက်တိုဘာ ၂၆ရက် ညနေပိုင်း အကယ်ဒမီ မီးလင်း ရွှေဈေးကွက် ပိတ်စျေးနှုန်းဟာ ရွှေတစ်ကျပ်သားကို ၅၆၂,၆၉၀,၀ နဲ့စျေးပိတ်ခဲ့ပြီး အပြင်မှာ တစ်ကျပ်သားကို သိန်း ၆၀ ကျော်ပေါက်စျေးရှိနေတာလည်း ဖြစ်ပါတယ်။\"\n",
    "#text = \"“ဒီဆိပ်ကမ်းကိုဇူလိုင်2019 ၁၁ရက်ကတည်းကမပိတ်ထားတာဖြစ်ပြီး”\"\n",
    "tokens = tokenizer.word_tokenize(text)\n",
    "tokens"
   ]
  }
 ],
 "metadata": {
  "kernelspec": {
   "display_name": "venv",
   "language": "python",
   "name": "python3"
  },
  "language_info": {
   "codemirror_mode": {
    "name": "ipython",
    "version": 3
   },
   "file_extension": ".py",
   "mimetype": "text/x-python",
   "name": "python",
   "nbconvert_exporter": "python",
   "pygments_lexer": "ipython3",
   "version": "3.9.6"
  }
 },
 "nbformat": 4,
 "nbformat_minor": 5
}
