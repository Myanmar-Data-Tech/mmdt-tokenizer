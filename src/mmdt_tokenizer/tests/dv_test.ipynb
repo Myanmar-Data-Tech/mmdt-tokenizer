{
 "cells": [
  {
   "cell_type": "code",
   "execution_count": 1,
   "id": "cf66ec55",
   "metadata": {},
   "outputs": [],
   "source": [
    "from mmdt_tokenizer.core import MyanmarTokenizer\n",
    "import pandas as pd\n",
    "from pathlib import Path\n",
    "\n",
    "tokenizer = MyanmarTokenizer()\n",
    "\n",
    "def test_syllable_tokenize_basic(tokenizer):\n",
    "    text = \"မင်္ဂလာပါ\"\n",
    "    tokens = tokenizer.syllable_tokenize(text)\n",
    "    assert isinstance(tokens, list)\n",
    "    assert any(\"မင်္\" in tok or \"ဂ\" in tok for tok in tokens[0])\n",
    "\n",
    "def test_syllable_tokenize_longtext(tokenizer):\n",
    "    text = \"ဒီ ၂၀၁၉ ဆိပ်ကမ်းကို ဇူလိုင် ၁၁ ရက်ကတည်းက ပိတ်ထားတာဖြစ်ပြီး ဒီနေ့မှာ ရွှေဘိုခရိုင်တပ်ရင်း ၂ နဲ့ ရေလည်မော် ရပ်ကျေး ပ.က.ဖ တို့က ပြန်ဖွင့်ဖို့ စီစဉ်တာကြောင့် ဆန္ဒပြကြတာလို့ ပြောပါတယ်။\"\n",
    "    tokens = tokenizer.syllable_tokenize(text)\n",
    "    assert isinstance(tokens, list)\n",
    "    assert len(tokens[0])>53\n",
    "    \n",
    "\n",
    "def test_syllable_tokenize_save_csv(tokenizer: MyanmarTokenizer, tmp_path):\n",
    "    \"\"\"Tests the CSV saving feature exposed by the main tokenizer.\"\"\"\n",
    "    SAMPLE_TEXT = [\"မင်္ဂလာပါ မြန်မာစာ\", \"တနေ့တော့\"]\n",
    "    EXPECTED_SYLLABLES = [\"မင်္ဂ\", \"လာ\", \"ပါ\", \"မြန်\", \"မာ\", \"စာ\", \"တ\", \"နေ့\", \"တော့\"]\n",
    "    csv_path = tmp_path + \"/syllable_core_test.csv\"\n",
    "    \n",
    "    # Call the main tokenizer method with the save_csv argument\n",
    "    tokenizer.syllable_tokenize(SAMPLE_TEXT, save_csv=str(csv_path), conll_style=True)\n",
    "    df = pd.read_csv(csv_path)\n",
    "    expected_rows = EXPECTED_SYLLABLES \n",
    "    assert df.shape[0] == len(expected_rows)+1\n",
    "    \n",
    "def test_syllable_tokenize_csv_input(tokenizer: MyanmarTokenizer, tmp_path):\n",
    "    \"\"\"Tests the CSV loading/saving feature exposed by the main tokenizer.\"\"\"\n",
    "    csv_input_path = tmp_path + \"/test_data.csv\"\n",
    "    csv_output_path = tmp_path + \"/result_syllable_bd.csv\"\n",
    "\n",
    "    df = pd.read_csv(csv_input_path)\n",
    "    \n",
    "    # Call the main tokenizer method with the save_csv argument and input is dataframe\n",
    "    \n",
    "    tokenizer.syllable_tokenize(df, column = 'original_sentence', save_csv=str(csv_output_path), conll_style=False)\n",
    "    assert Path(csv_output_path).exists()\n",
    "    \n",
    "\n",
    "test_syllable_tokenize_basic(tokenizer)\n",
    "test_syllable_tokenize_longtext(tokenizer)\n",
    "test_syllable_tokenize_save_csv(tokenizer, '../data')\n",
    "test_syllable_tokenize_csv_input(tokenizer, '../data')\n",
    "\n"
   ]
  },
  {
   "cell_type": "code",
   "execution_count": 3,
   "id": "a21ca817",
   "metadata": {},
   "outputs": [
    {
     "name": "stdout",
     "output_type": "stream",
     "text": [
      "ဒီဆိပ်ကမ်းကိုဇူလိုင်\n",
      "\u0002PROT\u0003\n",
      "\u0002PROTA\u0003\n",
      "ရက်ကတည်းကပိတ်ထားတာဖြစ်ပြီး\n"
     ]
    },
    {
     "data": {
      "text/plain": [
       "[[['ဒီ', 'ဆိပ်', 'ကမ်း', 'ကို', 'ဇူ', 'လိုင်'],\n",
       "  '2019',\n",
       "  '၁၁',\n",
       "  ['ရက်', 'က', 'တည်း', 'က', 'ပိတ်', 'ထား', 'တာ', 'ဖြစ်', 'ပြီး']]]"
      ]
     },
     "execution_count": 3,
     "metadata": {},
     "output_type": "execute_result"
    }
   ],
   "source": [
    "tokenizer = MyanmarTokenizer()\n",
    "text = \"၂၉-၉-၂၀၂၅  တကက-၁၃ အမှတ်(၁၅)\"\n",
    "text = \"ဒီဆိပ်ကမ်းကို ဇူလိုင် ၁၁ ရက်ကတည်းက ပိတ်ထားတာဖြစ်ပြီး၊ ဒီနေ့မှာ ရွှေဘိုခရိုင်တပ်ရင်း ၂ နဲ့ ရေလည်မော် ရပ်ကျေး ပ.က.ဖ တို့က ပြန်ဖွင့်ဖို့ စီစဉ်တာကြောင့် ဆန္ဒပြကြတာလို့ ပြောပါတယ်။\"\n",
    "text= \"ရန်ကုန်တိုင်းရွှေလုပ်ငန်းရှင်များအသင်းရဲ့ အောက်တိုဘာ ၂၆ရက် ညနေပိုင်း အကယ်ဒမီ မီးလင်း ရွှေဈေးကွက် ပိတ်စျေးနှုန်းဟာ ရွှေတစ်ကျပ်သားကို ၅၆၂,၆၉၀,၀ နဲ့စျေးပိတ်ခဲ့ပြီး အပြင်မှာ တစ်ကျပ်သားကို သိန်း ၆၀ ကျော်ပေါက်စျေးရှိနေတာလည်း ဖြစ်ပါတယ်။\"\n",
    "text = \"“ဒီဆိပ်ကမ်းကိုဇူလိုင်2019 ၁၁ရက်ကတည်းကပိတ်ထားတာဖြစ်ပြီး”\"\n",
    "tokens = tokenizer.word_tokenize(text)\n",
    "tokens"
   ]
  },
  {
   "cell_type": "code",
   "execution_count": null,
   "id": "d980a1c5",
   "metadata": {},
   "outputs": [],
   "source": []
  }
 ],
 "metadata": {
  "kernelspec": {
   "display_name": "venv",
   "language": "python",
   "name": "python3"
  },
  "language_info": {
   "codemirror_mode": {
    "name": "ipython",
    "version": 3
   },
   "file_extension": ".py",
   "mimetype": "text/x-python",
   "name": "python",
   "nbconvert_exporter": "python",
   "pygments_lexer": "ipython3",
   "version": "3.9.6"
  }
 },
 "nbformat": 4,
 "nbformat_minor": 5
}
