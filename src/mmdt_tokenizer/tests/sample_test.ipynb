{
 "cells": [
  {
   "cell_type": "code",
   "execution_count": null,
   "id": "bace1303",
   "metadata": {},
   "outputs": [],
   "source": [
    "import sys\n",
    "import os\n",
    "\n",
    "# -----------------------------\n",
    "# Step 1: Add project root to sys.path\n",
    "# -----------------------------\n",
    "# Get the directory of this script\n",
    "current_dir = os.getcwd()\n",
    "print(f\"Current directory: {current_dir}\")\n",
    "\n",
    "# Go up one level to the project root (where src/ is located)\n",
    "project_root = os.path.abspath(os.path.join(current_dir, \"..\"))\n",
    "\n",
    "# Add project root to sys.path if not already there\n",
    "if project_root not in sys.path:\n",
    "    sys.path.insert(0, project_root)\n",
    "\n",
    "from src.mmdt_tokenizer.core import MyanmarTokenizer\n"
   ]
  },
  {
   "cell_type": "code",
   "execution_count": null,
   "id": "f26ef407",
   "metadata": {},
   "outputs": [],
   "source": [
    "pro_tokenizer =  MyanmarTokenizer(\n",
    "        space_remove_mode=\"my_not_num\",\n",
    "        protect_pattern = True\n",
    "    )\n",
    "tokenizer =  MyanmarTokenizer(\n",
    "        space_remove_mode=\"my_not_num\",\n",
    "        protect_pattern = False\n",
    "    )"
   ]
  },
  {
   "cell_type": "code",
   "execution_count": null,
   "id": "82faf751",
   "metadata": {},
   "outputs": [],
   "source": [
    "# no difference on when there is no numbers or patterns to protect\n",
    "text = \"မင်္ဂလာပါ လူကြီးမင်းတို့\"\n",
    "pro_tokens = pro_tokenizer.word_tokenize(text)\n",
    "tokens = tokenizer.word_tokenize(text)\n",
    "print(pro_tokens)\n",
    "print(tokens)"
   ]
  },
  {
   "cell_type": "code",
   "execution_count": null,
   "id": "de9ceb5e",
   "metadata": {},
   "outputs": [],
   "source": [
    "text= \"စစ်ရေးအရ တကက-၁၃ ရှိတဲ့ တွင်းငယ်ရွာကြီးကို စစ်တပ်ထိန်းချုပ်လိုက်ပြီးနောက် ၇ မိုင်တပ်စခန်းအနီးက စမ္ပါယ်နဂိုရ်ရွာ၊ ကျောက်ကြီး၊ ဝါးဖြူတောင် စတဲ့နေရာတွေကိုလည်း အဆင့်ဆင့် လက်လွှတ်ခဲ့ရပြီး မြို့ကို ဆုံးရှုံးလိုက်ရတာလို့ မြေပြင်သတင်းရင်းမြစ်တစ်ဦးက ဆိုပါတယ်။\"\n",
    "pro_tokens = pro_tokenizer.word_tokenize(text)\n",
    "tokens = tokenizer.word_tokenize(text)\n",
    "print(pro_tokens)\n",
    "print(tokens)"
   ]
  },
  {
   "cell_type": "code",
   "execution_count": null,
   "id": "7a0a717a",
   "metadata": {},
   "outputs": [],
   "source": [
    "text=\"ဒီဆိပ်ကမ်းကို ဇူလိုင် ၁၁ ရက်ကတည်းက ပိတ်ထားတာဖြစ်ပြီး ဒီနေ့မှာ ရွှေဘိုခရိုင်တပ်ရင်း ၂ နဲ့ ရေလည်မော် ရပ်ကျေး ပ.က.ဖ တို့က ပြန်ဖွင့်ဖို့ စီစဉ်တာကြောင့် ဆန္ဒပြကြတာလို့ ပြောပါတယ်။\"\n",
    "pro_tokens = pro_tokenizer.word_tokenize(text)\n",
    "tokens = tokenizer.word_tokenize(text)\n",
    "print(pro_tokens)\n",
    "print(tokens)"
   ]
  },
  {
   "cell_type": "code",
   "execution_count": null,
   "id": "34ef109e",
   "metadata": {},
   "outputs": [],
   "source": [
    "text = \"၂၉-၉-၂၀၂၅  တကက-၁၃ အမှတ်(၁၅)\"\n",
    "pro_tokens = pro_tokenizer.word_tokenize(text)\n",
    "tokens = tokenizer.word_tokenize(text)\n",
    "print(pro_tokens)\n",
    "print(tokens)"
   ]
  },
  {
   "cell_type": "code",
   "execution_count": null,
   "id": "dc57c557",
   "metadata": {},
   "outputs": [],
   "source": [
    "text= \"ရန်ကုန်တိုင်းရွှေလုပ်ငန်းရှင်များအသင်းရဲ့ အောက်တိုဘာ ၂၆ရက် ညနေပိုင်း အကယ်ဒမီ မီးလင်း ရွှေဈေးကွက် ပိတ်စျေးနှုန်းဟာ ရွှေတစ်ကျပ်သားကို ၅၆၂,၆၉၀,၀ နဲ့စျေးပိတ်ခဲ့ပြီး အပြင်မှာ တစ်ကျပ်သားကို သိန်း ၆၀ ကျော်ပေါက်စျေးရှိနေတာလည်း ဖြစ်ပါတယ်။\"\n",
    "import pandas as pd\n",
    "pro_tokens = pro_tokenizer.word_tokenize(text)\n",
    "tokens = tokenizer.word_tokenize(text)  # ၅,၆၂၆,၉၀၀\n",
    "print(pro_tokens)\n",
    "print(tokens)"
   ]
  },
  {
   "cell_type": "code",
   "execution_count": null,
   "id": "894e06cb",
   "metadata": {},
   "outputs": [],
   "source": [
    "text = \"Yangon 2025 , 300.6 billion USD\"\n",
    "pro_tokens = pro_tokenizer.word_tokenize(text)\n",
    "tokens = tokenizer.word_tokenize(text)\n",
    "print(pro_tokens)\n",
    "print(tokens)"
   ]
  },
  {
   "cell_type": "code",
   "execution_count": null,
   "id": "c7a99f7c",
   "metadata": {},
   "outputs": [],
   "source": [
    "text = \"ရန်ကုန်၂၀၂၅, ၃၀၀.၆ ဘီလီယံ\"\n",
    "pro_tokens = pro_tokenizer.word_tokenize(text)\n",
    "tokens = tokenizer.word_tokenize(text)\n",
    "print(pro_tokens)\n",
    "print(tokens)"
   ]
  },
  {
   "cell_type": "code",
   "execution_count": null,
   "id": "23ae0c22",
   "metadata": {},
   "outputs": [],
   "source": [
    "text = \"ရန်ကုန်မြို့မှာနေထိုင်ပါတယ်\"\n",
    "pro_tokens = pro_tokenizer.word_tokenize(text)\n",
    "tokens = tokenizer.word_tokenize(text)\n",
    "print(pro_tokens)\n",
    "print(tokens)"
   ]
  },
  {
   "cell_type": "code",
   "execution_count": null,
   "id": "982148af",
   "metadata": {},
   "outputs": [],
   "source": [
    "text = \"၂၀၂၅ခုနှစ် ငွေ၁၅,၀၀၀ကျပ် အင်အား ၇.၇၅\"\n",
    "tokens = tokenizer.word_tokenize(text)\n",
    "pro_tokens = pro_tokenizer.word_tokenize(text)\n",
    "print(pro_tokens)\n",
    "print(tokens)"
   ]
  },
  {
   "cell_type": "code",
   "execution_count": null,
   "id": "7c0228d9",
   "metadata": {},
   "outputs": [],
   "source": [
    "text= \"ငလျင်မလှုပ်ခင် ပြည်တွင်းက ဘိလပ်မြေစက်ရုံ ၉ ရုံကနေ တစ်ရက်ကို ဘိလပ်မြေတန်ချိန် ၃၀,၇၀၀ (အိတ် ၆၁၄,၀၀၀) ထုတ်နိုင်ခဲ့ပြီး ငလျင်ပြီးတဲ့နောက်မှာတော့ စက်ရုံ ၆ ရုံကနေ တစ်ရက်ကို တန် ၁၇,၁၀၀ (အိတ် ၃၄၂,၀၀၀) ပဲထုတ်နိုင်တော့တာကြောင့် တန်ချိန် ၁၃,၀၀၀ ကျော် ကျဆင်းခဲ့ပါတယ်။\"\n",
    "tokens = tokenizer.word_tokenize(text)\n",
    "pro_tokens = pro_tokenizer.word_tokenize(text)\n",
    "print(pro_tokens)\n",
    "print(tokens)"
   ]
  }
 ],
 "metadata": {
  "kernelspec": {
   "display_name": "venv",
   "language": "python",
   "name": "python3"
  },
  "language_info": {
   "codemirror_mode": {
    "name": "ipython",
    "version": 3
   },
   "file_extension": ".py",
   "mimetype": "text/x-python",
   "name": "python",
   "nbconvert_exporter": "python",
   "pygments_lexer": "ipython3",
   "version": "3.9.6"
  }
 },
 "nbformat": 4,
 "nbformat_minor": 5
}
