{
 "cells": [
  {
   "cell_type": "code",
   "execution_count": 1,
   "id": "bace1303",
   "metadata": {},
   "outputs": [
    {
     "name": "stdout",
     "output_type": "stream",
     "text": [
      "Current directory: d:\\09_Projects\\13_Myanmar_GeoCoder\\mmdt-tokenizer\\tests\n"
     ]
    }
   ],
   "source": [
    "import sys\n",
    "import os\n",
    "\n",
    "# -----------------------------\n",
    "# Step 1: Add project root to sys.path\n",
    "# -----------------------------\n",
    "# Get the directory of this script\n",
    "current_dir = os.getcwd()\n",
    "print(f\"Current directory: {current_dir}\")\n",
    "\n",
    "# Go up one level to the project root (where src/ is located)\n",
    "project_root = os.path.abspath(os.path.join(current_dir, \"..\"))\n",
    "\n",
    "# Add project root to sys.path if not already there\n",
    "if project_root not in sys.path:\n",
    "    sys.path.insert(0, project_root)\n",
    "\n",
    "from src.mmdt_tokenizer.core import MyanmarTokenizer\n"
   ]
  },
  {
   "cell_type": "code",
   "execution_count": 2,
   "id": "f26ef407",
   "metadata": {},
   "outputs": [
    {
     "name": "stdout",
     "output_type": "stream",
     "text": [
      "Loaded 38326 words from D:\\09_Projects\\13_Myanmar_GeoCoder\\mmdt-tokenizer\\src\\mmdt_tokenizer\\data\\myg2p_mypos.dict\n",
      "Loaded 38326 words from D:\\09_Projects\\13_Myanmar_GeoCoder\\mmdt-tokenizer\\src\\mmdt_tokenizer\\data\\myg2p_mypos.dict\n"
     ]
    }
   ],
   "source": [
    "pro_tokenizer =  MyanmarTokenizer(\n",
    "        space_remove_mode=\"my_not_num\",\n",
    "        protect_pattern = True\n",
    "    )\n",
    "tokenizer =  MyanmarTokenizer(\n",
    "        space_remove_mode=\"my_not_num\",\n",
    "        protect_pattern = False\n",
    "    )"
   ]
  },
  {
   "cell_type": "code",
   "execution_count": 3,
   "id": "82faf751",
   "metadata": {},
   "outputs": [
    {
     "name": "stdout",
     "output_type": "stream",
     "text": [
      "[['မင်္ဂလာ', 'ပါ', 'လူကြီးမင်း', 'တို့']]\n",
      "[['မင်္ဂလာ', 'ပါ', 'လူကြီးမင်း', 'တို့']]\n"
     ]
    }
   ],
   "source": [
    "# no difference on when there is no numbers or patterns to protect\n",
    "text = \"မင်္ဂလာပါ လူကြီးမင်းတို့\"\n",
    "pro_tokens = pro_tokenizer.word_tokenize(text)\n",
    "tokens = tokenizer.word_tokenize(text)\n",
    "print(pro_tokens)\n",
    "print(tokens)"
   ]
  },
  {
   "cell_type": "code",
   "execution_count": 4,
   "id": "de9ceb5e",
   "metadata": {},
   "outputs": [
    {
     "name": "stdout",
     "output_type": "stream",
     "text": [
      "[['စစ်', 'ရေး', 'အရ', 'တ', 'က', 'က', '၁၃', 'ရှိ', 'တဲ့', 'တွင်း', 'ငယ်', 'ရွာ', 'ကြီး', 'ကို', 'စစ်တပ်', 'ထိန်းချုပ်', 'လိုက်', 'ပြီးနောက်', '၇', 'မိုင်', 'တပ်စခန်း', 'အနီး', 'က', 'စမ္ပါယ်', 'နဂိုရ်', 'ရွာ', '၊', 'ကျောက်ကြီး', '၊', 'ဝါး', 'ဖြူ', 'တောင်', 'စတဲ့', 'နေရာ', 'တွေ', 'ကို', 'လည်း', 'အဆင့်ဆင့်', 'လက်လွှတ်', 'ခဲ့', 'ရ', 'ပြီး', 'မြို့', 'ကို', 'ဆုံးရှုံး', 'လိုက်', 'ရ', 'တာ', 'လို့', 'မြေပြင်', 'သတင်း', 'ရင်းမြစ်', 'တစ်ဦး', 'က', 'ဆို', 'ပါတယ်', '။']]\n",
      "[['စစ်', 'ရေး', 'အရ', 'တ', 'က', 'က', '-', '၁၃', 'ရှိ', 'တဲ့', 'တွင်း', 'ငယ်', 'ရွာ', 'ကြီး', 'ကို', 'စစ်တပ်', 'ထိန်းချုပ်', 'လိုက်', 'ပြီး', 'နောက် ၇', 'မိုင်', 'တပ်စခန်း', 'အနီး', 'က', 'စမ္ပါယ်', 'နဂိုရ်', 'ရွာ', '၊', 'ကျောက်ကြီး', '၊', 'ဝါး', 'ဖြူ', 'တောင်', 'စတဲ့', 'နေရာ', 'တွေ', 'ကို', 'လည်း', 'အဆင့်ဆင့်', 'လက်လွှတ်', 'ခဲ့', 'ရ', 'ပြီး', 'မြို့', 'ကို', 'ဆုံးရှုံး', 'လိုက်', 'ရ', 'တာ', 'လို့', 'မြေပြင်', 'သတင်း', 'ရင်းမြစ်', 'တစ်ဦး', 'က', 'ဆို', 'ပါတယ်', '။']]\n"
     ]
    }
   ],
   "source": [
    "text= \"စစ်ရေးအရ တကက-၁၃ ရှိတဲ့ တွင်းငယ်ရွာကြီးကို စစ်တပ်ထိန်းချုပ်လိုက်ပြီးနောက် ၇ မိုင်တပ်စခန်းအနီးက စမ္ပါယ်နဂိုရ်ရွာ၊ ကျောက်ကြီး၊ ဝါးဖြူတောင် စတဲ့နေရာတွေကိုလည်း အဆင့်ဆင့် လက်လွှတ်ခဲ့ရပြီး မြို့ကို ဆုံးရှုံးလိုက်ရတာလို့ မြေပြင်သတင်းရင်းမြစ်တစ်ဦးက ဆိုပါတယ်။\"\n",
    "pro_tokens = pro_tokenizer.word_tokenize(text)\n",
    "tokens = tokenizer.word_tokenize(text)\n",
    "print(pro_tokens)\n",
    "print(tokens)"
   ]
  },
  {
   "cell_type": "code",
   "execution_count": 5,
   "id": "7a0a717a",
   "metadata": {},
   "outputs": [
    {
     "name": "stdout",
     "output_type": "stream",
     "text": [
      "[['ဒီ', 'ဆိပ်ကမ်း', 'ကို', 'ဇူလိုင်', '၁၁', 'ရက်', 'ကတည်းက', 'ပိတ်', 'ထား', 'တာ', 'ဖြစ်', 'ပြီး', 'ဒီနေ့', 'မှာ', 'ရွှေဘို', 'ခရိုင်', 'တပ်ရင်း', '၂', 'နဲ့', 'ရေလည်', 'မော်', 'ရပ်', 'ကျေး', 'ပ.က.ဖ', 'တို့', 'က', 'ပြန်', 'ဖွင့်', 'ဖို့', 'စီစဉ်', 'တာ', 'ကြောင့်', 'ဆန္ဒပြ', 'ကြ', 'တာ', 'လို့', 'ပြော', 'ပါတယ်', '။']]\n",
      "[['ဒီ', 'ဆိပ်ကမ်း', 'ကို', 'ဇူ', 'လိုင် ၁၁', 'ရက်', 'ကတည်းက', 'ပိတ်', 'ထား', 'တာ', 'ဖြစ်', 'ပြီး', 'ဒီနေ့', 'မှာ', 'ရွှေဘို', 'ခရိုင်', 'တပ်', 'ရင်း ၂', 'နဲ့', 'ရေလည်', 'မော်', 'ရပ်', 'ကျေး', 'ပ.', 'က.', 'ဖ', 'တို့', 'က', 'ပြန်', 'ဖွင့်', 'ဖို့', 'စီစဉ်', 'တာ', 'ကြောင့်', 'ဆန္ဒပြ', 'ကြ', 'တာ', 'လို့', 'ပြော', 'ပါတယ်', '။']]\n"
     ]
    }
   ],
   "source": [
    "text=\"ဒီဆိပ်ကမ်းကို ဇူလိုင် ၁၁ ရက်ကတည်းက ပိတ်ထားတာဖြစ်ပြီး ဒီနေ့မှာ ရွှေဘိုခရိုင်တပ်ရင်း ၂ နဲ့ ရေလည်မော် ရပ်ကျေး ပ.က.ဖ တို့က ပြန်ဖွင့်ဖို့ စီစဉ်တာကြောင့် ဆန္ဒပြကြတာလို့ ပြောပါတယ်။\"\n",
    "pro_tokens = pro_tokenizer.word_tokenize(text)\n",
    "tokens = tokenizer.word_tokenize(text)\n",
    "print(pro_tokens)\n",
    "print(tokens)"
   ]
  },
  {
   "cell_type": "code",
   "execution_count": 6,
   "id": "34ef109e",
   "metadata": {},
   "outputs": [
    {
     "name": "stdout",
     "output_type": "stream",
     "text": [
      "[['၂၉-၉-၂၀၂၅', 'တ', 'က', 'က', '၁၃', 'အမှတ်', '၁၅']]\n",
      "[['၂၉', '-', '၉', '-', '၂၀၂၅', 'တ', 'က', 'က', '-', '၁၃', 'အ', 'မှတ်', '(', '၁၅', ')']]\n"
     ]
    }
   ],
   "source": [
    "text = \"၂၉-၉-၂၀၂၅  တကက-၁၃ အမှတ်(၁၅)\"\n",
    "pro_tokens = pro_tokenizer.word_tokenize(text)\n",
    "tokens = tokenizer.word_tokenize(text)\n",
    "print(pro_tokens)\n",
    "print(tokens)"
   ]
  },
  {
   "cell_type": "code",
   "execution_count": 7,
   "id": "dc57c557",
   "metadata": {},
   "outputs": [
    {
     "name": "stdout",
     "output_type": "stream",
     "text": [
      "[['ရန်ကုန်', 'တိုင်း', 'ရွှေ', 'လုပ်ငန်းရှင်', 'များ', 'အသင်း', 'ရဲ့', 'အောက်တိုဘာ', '၂၆', 'ရက်', 'ညနေ', 'ပိုင်း', 'အကယ်ဒမီ', 'မီးလင်း', 'ရွှေ', 'ဈေးကွက်', 'ပိတ်', 'စျေးနှုန်း', 'ဟာ', 'ရွှေ', 'တစ်', 'ကျပ်သား', 'ကို', '၅၆၂,၆၉၀,၀', 'နဲ့', 'စျေး', 'ပိတ်', 'ခဲ့', 'ပြီး', 'အပြင်', 'မှာ', 'တစ်', 'ကျပ်သား', 'ကို', 'သိန်း', '၆၀', 'ကျော်', 'ပေါက်စျေး', 'ရှိ', 'နေ', 'တာ', 'လည်း', 'ဖြစ်', 'ပါတယ်', '။']]\n",
      "[['ရန်ကုန်', 'တိုင်း', 'ရွှေ', 'လုပ်ငန်းရှင်', 'များ', 'အသင်း', 'ရဲ့', 'အောက်', 'တို', 'ဘာ ၂၆', 'ရက်', 'ညနေ', 'ပိုင်း', 'အကယ်ဒမီ', 'မီးလင်း', 'ရွှေ', 'ဈေးကွက်', 'ပိတ်', 'စျေးနှုန်း', 'ဟာ', 'ရွှေ', 'တစ်', 'ကျပ်သား', 'ကို ၅၆၂,၆၉၀,၀', 'နဲ့', 'စျေး', 'ပိတ်', 'ခဲ့', 'ပြီး', 'အပြင်', 'မှာ', 'တစ်', 'ကျပ်သား', 'ကို', 'သိန်း ၆၀', 'ကျော်', 'ပေါက်စျေး', 'ရှိ', 'နေ', 'တာ', 'လည်း', 'ဖြစ်', 'ပါတယ်', '။']]\n"
     ]
    }
   ],
   "source": [
    "text= \"ရန်ကုန်တိုင်းရွှေလုပ်ငန်းရှင်များအသင်းရဲ့ အောက်တိုဘာ ၂၆ရက် ညနေပိုင်း အကယ်ဒမီ မီးလင်း ရွှေဈေးကွက် ပိတ်စျေးနှုန်းဟာ ရွှေတစ်ကျပ်သားကို ၅၆၂,၆၉၀,၀ နဲ့စျေးပိတ်ခဲ့ပြီး အပြင်မှာ တစ်ကျပ်သားကို သိန်း ၆၀ ကျော်ပေါက်စျေးရှိနေတာလည်း ဖြစ်ပါတယ်။\"\n",
    "import pandas as pd\n",
    "pro_tokens = pro_tokenizer.word_tokenize(text)\n",
    "tokens = tokenizer.word_tokenize(text)  # ၅,၆၂၆,၉၀၀\n",
    "print(pro_tokens)\n",
    "print(tokens)"
   ]
  },
  {
   "cell_type": "code",
   "execution_count": 8,
   "id": "894e06cb",
   "metadata": {},
   "outputs": [
    {
     "name": "stdout",
     "output_type": "stream",
     "text": [
      "[['Yangon', '2025', ',', '300.6', 'billion', 'USD']]\n",
      "[['Yangon 2025 , 300.6 billion USD']]\n"
     ]
    }
   ],
   "source": [
    "text = \"Yangon 2025 , 300.6 billion USD\"\n",
    "pro_tokens = pro_tokenizer.word_tokenize(text)\n",
    "tokens = tokenizer.word_tokenize(text)\n",
    "print(pro_tokens)\n",
    "print(tokens)"
   ]
  },
  {
   "cell_type": "code",
   "execution_count": 9,
   "id": "c7a99f7c",
   "metadata": {},
   "outputs": [
    {
     "name": "stdout",
     "output_type": "stream",
     "text": [
      "[['ရန်ကုန်', '၂၀၂၅', ',', '၃၀၀.၆', 'ဘီလီယံ']]\n",
      "[['ရန်', 'ကုန်၂၀၂၅, ၃၀၀.၆', 'ဘီလီယံ']]\n"
     ]
    }
   ],
   "source": [
    "text = \"ရန်ကုန်၂၀၂၅, ၃၀၀.၆ ဘီလီယံ\"\n",
    "pro_tokens = pro_tokenizer.word_tokenize(text)\n",
    "tokens = tokenizer.word_tokenize(text)\n",
    "print(pro_tokens)\n",
    "print(tokens)"
   ]
  },
  {
   "cell_type": "code",
   "execution_count": 10,
   "id": "23ae0c22",
   "metadata": {},
   "outputs": [
    {
     "name": "stdout",
     "output_type": "stream",
     "text": [
      "[['ရန်ကုန်', 'မြို့', 'မှာ', 'နေထိုင်', 'ပါတယ်']]\n",
      "[['ရန်ကုန်', 'မြို့', 'မှာ', 'နေထိုင်', 'ပါတယ်']]\n"
     ]
    }
   ],
   "source": [
    "text = \"ရန်ကုန်မြို့မှာနေထိုင်ပါတယ်\"\n",
    "pro_tokens = pro_tokenizer.word_tokenize(text)\n",
    "tokens = tokenizer.word_tokenize(text)\n",
    "print(pro_tokens)\n",
    "print(tokens)"
   ]
  },
  {
   "cell_type": "code",
   "execution_count": 11,
   "id": "982148af",
   "metadata": {},
   "outputs": [
    {
     "name": "stdout",
     "output_type": "stream",
     "text": [
      "[['၂၀၂၅', 'ခုနှစ်', 'ငွေ', '၁၅,၀၀၀', 'ကျပ်', 'အင်အား', '၇.၇၅']]\n",
      "[['၂၀၂၅', 'ခုနှစ်', 'ငွေ၁၅,၀၀၀', 'ကျပ်', 'အင်', 'အား ၇.၇၅']]\n"
     ]
    }
   ],
   "source": [
    "text = \"၂၀၂၅ခုနှစ် ငွေ၁၅,၀၀၀ကျပ် အင်အား ၇.၇၅\"\n",
    "tokens = tokenizer.word_tokenize(text)\n",
    "pro_tokens = pro_tokenizer.word_tokenize(text)\n",
    "print(pro_tokens)\n",
    "print(tokens)"
   ]
  },
  {
   "cell_type": "code",
   "execution_count": 12,
   "id": "7c0228d9",
   "metadata": {},
   "outputs": [
    {
     "name": "stdout",
     "output_type": "stream",
     "text": [
      "[['ငလျင်', 'မ', 'လှုပ်', 'ခင်', 'ပြည်တွင်း', 'က', 'ဘိလပ်မြေ', 'စက်ရုံ', '၉', 'ရုံ', 'က', 'နေ', 'တစ်', 'ရက်', 'ကို', 'ဘိလပ်မြေ', 'တန်ချိန်', '၃၀,၇၀၀', 'အိတ်', '၆၁၄,၀၀၀', 'ထုတ်', 'နိုင်', 'ခဲ့', 'ပြီး', 'ငလျင်', 'ပြီး', 'တဲ့', 'နောက်', 'မှာတော့', 'စက်ရုံ', '၆', 'ရုံ', 'က', 'နေ', 'တစ်', 'ရက်', 'ကို', 'တန်', '၁၇,၁၀၀', 'အိတ်', '၃၄၂,၀၀၀', 'ပဲ', 'ထုတ်', 'နိုင်', 'တော့', 'တာ', 'ကြောင့်', 'တန်ချိန်', '၁၃,၀၀၀', 'ကျော်', 'ကျဆင်း', 'ခဲ့', 'ပါတယ်', '။']]\n",
      "[['ငလျင်', 'မ', 'လှုပ်', 'ခင်', 'ပြည်တွင်း', 'က', 'ဘိလပ်မြေ', 'စက်', 'ရုံ ၉', 'ရုံ', 'က', 'နေ', 'တစ်', 'ရက်', 'ကို', 'ဘိလပ်မြေ', 'တန်', 'ချိန် ၃၀,၇၀၀ ', '(', 'အိတ် ၆၁၄,၀၀၀', ')', 'ထုတ်', 'နိုင်', 'ခဲ့', 'ပြီး', 'ငလျင်', 'ပြီး', 'တဲ့', 'နောက်', 'မှာတော့', 'စက်', 'ရုံ ၆', 'ရုံ', 'က', 'နေ', 'တစ်', 'ရက်', 'ကို', 'တန် ၁၇,၁၀၀ ', '(', 'အိတ် ၃၄၂,၀၀၀', ')', 'ပဲ', 'ထုတ်', 'နိုင်', 'တော့', 'တာ', 'ကြောင့်', 'တန်', 'ချိန် ၁၃,၀၀၀', 'ကျော်', 'ကျဆင်း', 'ခဲ့', 'ပါတယ်', '။']]\n"
     ]
    }
   ],
   "source": [
    "text= \"ငလျင်မလှုပ်ခင် ပြည်တွင်းက ဘိလပ်မြေစက်ရုံ ၉ ရုံကနေ တစ်ရက်ကို ဘိလပ်မြေတန်ချိန် ၃၀,၇၀၀ (အိတ် ၆၁၄,၀၀၀) ထုတ်နိုင်ခဲ့ပြီး ငလျင်ပြီးတဲ့နောက်မှာတော့ စက်ရုံ ၆ ရုံကနေ တစ်ရက်ကို တန် ၁၇,၁၀၀ (အိတ် ၃၄၂,၀၀၀) ပဲထုတ်နိုင်တော့တာကြောင့် တန်ချိန် ၁၃,၀၀၀ ကျော် ကျဆင်းခဲ့ပါတယ်။\"\n",
    "tokens = tokenizer.word_tokenize(text)\n",
    "pro_tokens = pro_tokenizer.word_tokenize(text)\n",
    "print(pro_tokens)\n",
    "print(tokens)"
   ]
  }
 ],
 "metadata": {
  "kernelspec": {
   "display_name": ".venv",
   "language": "python",
   "name": "python3"
  },
  "language_info": {
   "codemirror_mode": {
    "name": "ipython",
    "version": 3
   },
   "file_extension": ".py",
   "mimetype": "text/x-python",
   "name": "python",
   "nbconvert_exporter": "python",
   "pygments_lexer": "ipython3",
   "version": "3.12.2"
  }
 },
 "nbformat": 4,
 "nbformat_minor": 5
}
